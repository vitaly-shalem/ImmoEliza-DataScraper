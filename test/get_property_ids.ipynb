{
 "cells": [
  {
   "cell_type": "code",
   "execution_count": 1,
   "metadata": {},
   "outputs": [
    {
     "name": "stdout",
     "output_type": "stream",
     "text": [
      "https://www.immoweb.be/en/search/house-and-apartment/for-rent/gent/district?countries=BE&page=1&orderBy=relevance\n",
      "[['10657557', 'https://www.immoweb.be/en/classified/apartment/for-rent/gent/9000/10657557'], ['10648826', 'https://www.immoweb.be/en/classified/apartment/for-rent/gent/9000/10648826'], ['10610330', 'https://www.immoweb.be/en/classified/new-real-estate-project-apartments/for-rent/zwijnaarde/9052/10610330'], ['10615811', 'https://www.immoweb.be/en/classified/penthouse/for-rent/heusden/9070/10615811'], ['10631456', 'https://www.immoweb.be/en/classified/apartment/for-rent/gent/9000/10631456'], ['10654982', 'https://www.immoweb.be/en/classified/duplex/for-rent/gent/9000/10654982'], ['10620586', 'https://www.immoweb.be/en/classified/apartment/for-rent/gent/9000/10620586'], ['10638490', 'https://www.immoweb.be/en/classified/apartment/for-rent/gent/9000/10638490'], ['10621940', 'https://www.immoweb.be/en/classified/apartment/for-rent/deinze/9800/10621940'], ['10592455', 'https://www.immoweb.be/en/classified/apartment/for-rent/drongen/9000/10592455'], ['10629047', 'https://www.immoweb.be/en/classified/apartment/for-rent/gent/9000/10629047'], ['10601065', 'https://www.immoweb.be/en/classified/apartment/for-rent/de%20pinte/9840/10601065'], ['10652475', 'https://www.immoweb.be/en/classified/apartment/for-rent/gavere/9890/10652475'], ['10646614', 'https://www.immoweb.be/en/classified/apartment/for-rent/gent/9000/10646614'], ['10600209', 'https://www.immoweb.be/en/classified/duplex/for-rent/bachte-maria-leerne/9800/10600209'], ['10639811', 'https://www.immoweb.be/en/classified/flat-studio/for-rent/gent/9000/10639811'], ['10659602', 'https://www.immoweb.be/en/classified/apartment/for-rent/deinze/9800/10659602'], ['10629824', 'https://www.immoweb.be/en/classified/house/for-rent/nevele%20landegem/9850/10629824'], ['10655633', 'https://www.immoweb.be/en/classified/flat-studio/for-rent/deinze/9800/10655633'], ['10615436', 'https://www.immoweb.be/en/classified/flat-studio/for-rent/gent/9000/10615436'], ['10548728', 'https://www.immoweb.be/en/classified/apartment/for-rent/gent/9000/10548728'], ['10519765', 'https://www.immoweb.be/en/classified/apartment/for-rent/st-martens-latem/9830/10519765'], ['10597690', 'https://www.immoweb.be/en/classified/house/for-rent/gent/9000/10597690'], ['10651902', 'https://www.immoweb.be/en/classified/villa/for-rent/gent/9000/10651902'], ['10657935', 'https://www.immoweb.be/en/classified/apartment/for-rent/destelbergen/9070/10657935'], ['10658318', 'https://www.immoweb.be/en/classified/apartment/for-rent/gent/9000/10658318'], ['10621941', 'https://www.immoweb.be/en/classified/apartment/for-rent/melle/9090/10621941'], ['10648133', 'https://www.immoweb.be/en/classified/apartment/for-rent/nazareth/9810/10648133'], ['10652110', 'https://www.immoweb.be/en/classified/apartment/for-rent/deinze/9800/10652110'], ['10575686', 'https://www.immoweb.be/en/classified/apartment/for-rent/zulte/9870/10575686'], ['10664094', 'https://www.immoweb.be/en/classified/duplex/for-rent/dinant%20falmignoul/5500/10664094'], ['10664078', 'https://www.immoweb.be/en/classified/house/for-rent/ittre/1460/10664078'], ['10664077', 'https://www.immoweb.be/en/classified/house/for-rent/ittre/1460/10664077'], ['10664074', 'https://www.immoweb.be/en/classified/apartment/for-rent/brugge%20assebroek/8310/10664074'], ['10664072', 'https://www.immoweb.be/en/classified/house/for-rent/wezembeek-oppem/1970/10664072'], ['10664068', 'https://www.immoweb.be/en/classified/loft/for-rent/wetteren/9230/10664068'], ['10664066', 'https://www.immoweb.be/en/classified/apartment/for-rent/ottignies-louvain-la-neuve/1340/10664066'], ['10664065', 'https://www.immoweb.be/en/classified/duplex/for-rent/ottignies-louvain-la-neuve/1340/10664065'], ['10664063', 'https://www.immoweb.be/en/classified/apartment/for-rent/antwerp/2600/10664063'], ['10664062', 'https://www.immoweb.be/en/classified/apartment/for-rent/antwerp/2000/10664062'], ['10664061', 'https://www.immoweb.be/en/classified/apartment/for-rent/antwerp/2000/10664061'], ['10664060', 'https://www.immoweb.be/en/classified/apartment/for-rent/antwerp/2000/10664060'], ['10664056', 'https://www.immoweb.be/en/classified/house/for-rent/colfontaine%20wasmes/7340/10664056'], ['10664045', 'https://www.immoweb.be/en/classified/apartment/for-rent/antwerp/2000/10664045'], ['10664044', 'https://www.immoweb.be/en/classified/duplex/for-rent/uccle/1180/10664044'], ['10664043', 'https://www.immoweb.be/en/classified/apartment/for-rent/evere/1140/10664043'], ['10664042', 'https://www.immoweb.be/en/classified/penthouse/for-rent/woluwe-saint-lambert/1200/10664042'], ['10664040', 'https://www.immoweb.be/en/classified/penthouse/for-rent/ixelles/1050/10664040'], ['10664035', 'https://www.immoweb.be/en/classified/apartment/for-rent/londerzeel/1840/10664035'], ['10664030', 'https://www.immoweb.be/en/classified/apartment/for-rent/molenbeek-saint-jean/1080/10664030'], ['10664026', 'https://www.immoweb.be/en/classified/ground-floor/for-rent/oud-turnhout/2360/10664026'], ['10664010', 'https://www.immoweb.be/en/classified/house/for-rent/westerlo/2260/10664010'], ['10664008', 'https://www.immoweb.be/en/classified/triplex/for-rent/tessenderlo/3980/10664008'], ['10664007', 'https://www.immoweb.be/en/classified/apartment/for-rent/herentals/2200/10664007'], ['10664006', 'https://www.immoweb.be/en/classified/house/for-rent/grobbendonk/2280/10664006'], ['10664004', 'https://www.immoweb.be/en/classified/house/for-rent/braine-l%27alleud/1420/10664004'], ['10664001', 'https://www.immoweb.be/en/classified/apartment/for-rent/waterloo/1410/10664001'], ['10664000', 'https://www.immoweb.be/en/classified/apartment/for-rent/braine-l%27alleud/1420/10664000'], ['10663996', 'https://www.immoweb.be/en/classified/apartment/for-rent/antwerp/2000/10663996'], ['10663993', 'https://www.immoweb.be/en/classified/apartment/for-rent/antwerp/2000/10663993']]\n"
     ]
    }
   ],
   "source": [
    "import requests\n",
    "from concurrent.futures import ThreadPoolExecutor\n",
    "import time\n",
    "import itertools\n",
    "\n",
    "\n",
    "def get_ids_from_page(page, session):\n",
    "    ids = []\n",
    "    url_lists = f\"https://www.immoweb.be/en/search-results/house-and-apartment/for-sale?countries=BE&page={page}&orderBy=newest\"\n",
    "    r = session.get(url_lists)\n",
    "    ids = [listing['id'] for listing in r.json()[\"results\"]]\n",
    "    return ids\n",
    "\n",
    "\n",
    "def get_ids(pages, max_workers):\n",
    "    with requests.Session() as session:\n",
    "        with ThreadPoolExecutor(max_workers=max_workers) as executor:\n",
    "            start = time.time()\n",
    "            result = list(executor.map(lambda page: get_ids_from_page(page, session), range(1, pages+1)))\n",
    "            flattened_result = list(itertools.chain.from_iterable(result))\n",
    "            end = time.time()\n",
    "            print(f\"Number of ids: {len(flattened_result)}\")\n",
    "            print(\"Time Taken: {:.6f}s\".format(end-start))\n",
    "            return flattened_result"
   ]
  }
 ],
 "metadata": {
  "kernelspec": {
   "display_name": "Python 3",
   "language": "python",
   "name": "python3"
  },
  "language_info": {
   "codemirror_mode": {
    "name": "ipython",
    "version": 3
   },
   "file_extension": ".py",
   "mimetype": "text/x-python",
   "name": "python",
   "nbconvert_exporter": "python",
   "pygments_lexer": "ipython3",
   "version": "3.11.3"
  },
  "orig_nbformat": 4
 },
 "nbformat": 4,
 "nbformat_minor": 2
}
