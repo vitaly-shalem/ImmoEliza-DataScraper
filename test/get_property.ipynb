{
 "cells": [
  {
   "cell_type": "code",
   "execution_count": 18,
   "metadata": {},
   "outputs": [
    {
     "ename": "TypeError",
     "evalue": "Object of type PropertiesDict is not JSON serializable",
     "output_type": "error",
     "traceback": [
      "\u001b[1;31m---------------------------------------------------------------------------\u001b[0m",
      "\u001b[1;31mTypeError\u001b[0m                                 Traceback (most recent call last)",
      "Cell \u001b[1;32mIn[18], line 40\u001b[0m\n\u001b[0;32m     28\u001b[0m \u001b[39mproperty\u001b[39m \u001b[39m=\u001b[39m {\u001b[39m0\u001b[39m:{\u001b[39m\"\u001b[39m\u001b[39mLocality\u001b[39m\u001b[39m\"\u001b[39m: \u001b[39m\"\u001b[39m\u001b[39mGent\u001b[39m\u001b[39m\"\u001b[39m, \u001b[39m\"\u001b[39m\u001b[39mTypeProperty\u001b[39m\u001b[39m\"\u001b[39m: \u001b[39m\"\u001b[39m\u001b[39mAppartament\u001b[39m\u001b[39m\"\u001b[39m, \n\u001b[0;32m     29\u001b[0m             \u001b[39m\"\u001b[39m\u001b[39mSubtypeProperty\u001b[39m\u001b[39m\"\u001b[39m: \u001b[39mNone\u001b[39;00m, \u001b[39m\"\u001b[39m\u001b[39mPrice\u001b[39m\u001b[39m\"\u001b[39m : \u001b[39m\"\u001b[39m\u001b[39m1200\u001b[39m\u001b[39m\"\u001b[39m,  \n\u001b[0;32m     30\u001b[0m             \u001b[39m\"\u001b[39m\u001b[39mTypeSale\u001b[39m\u001b[39m\"\u001b[39m: \u001b[39m\"\u001b[39m\u001b[39mDirect\u001b[39m\u001b[39m\"\u001b[39m, \u001b[39m\"\u001b[39m\u001b[39mNumberRooms\u001b[39m\u001b[39m\"\u001b[39m : \u001b[39m\"\u001b[39m\u001b[39m4\u001b[39m\u001b[39m\"\u001b[39m,  \n\u001b[1;32m   (...)\u001b[0m\n\u001b[0;32m     36\u001b[0m             \u001b[39m\"\u001b[39m\u001b[39mNumberFacades\u001b[39m\u001b[39m\"\u001b[39m:\u001b[39m1\u001b[39m, \u001b[39m\"\u001b[39m\u001b[39mSwimmingPool\u001b[39m\u001b[39m\"\u001b[39m : \u001b[39m\"\u001b[39m\u001b[39m\"\u001b[39m,  \n\u001b[0;32m     37\u001b[0m             \u001b[39m\"\u001b[39m\u001b[39mStateBuilding\u001b[39m\u001b[39m\"\u001b[39m: \u001b[39m\"\u001b[39m\u001b[39m\"\u001b[39m}}\n\u001b[0;32m     39\u001b[0m likes[\u001b[39m\"\u001b[39m\u001b[39mLocality\u001b[39m\u001b[39m\"\u001b[39m] \u001b[39m=\u001b[39m \u001b[39m'\u001b[39m\u001b[39mGent\u001b[39m\u001b[39m'\u001b[39m\n\u001b[1;32m---> 40\u001b[0m like \u001b[39m=\u001b[39m json\u001b[39m.\u001b[39;49mdumps(likes)\n\u001b[0;32m     41\u001b[0m \u001b[39mprint\u001b[39m(\u001b[39mtype\u001b[39m(\u001b[39mproperty\u001b[39m))\n\u001b[0;32m     42\u001b[0m \u001b[39mprint\u001b[39m(\u001b[39mtype\u001b[39m(like))\n",
      "File \u001b[1;32mC:\\Program Files\\WindowsApps\\PythonSoftwareFoundation.Python.3.11_3.11.1264.0_x64__qbz5n2kfra8p0\\Lib\\json\\__init__.py:231\u001b[0m, in \u001b[0;36mdumps\u001b[1;34m(obj, skipkeys, ensure_ascii, check_circular, allow_nan, cls, indent, separators, default, sort_keys, **kw)\u001b[0m\n\u001b[0;32m    226\u001b[0m \u001b[39m# cached encoder\u001b[39;00m\n\u001b[0;32m    227\u001b[0m \u001b[39mif\u001b[39;00m (\u001b[39mnot\u001b[39;00m skipkeys \u001b[39mand\u001b[39;00m ensure_ascii \u001b[39mand\u001b[39;00m\n\u001b[0;32m    228\u001b[0m     check_circular \u001b[39mand\u001b[39;00m allow_nan \u001b[39mand\u001b[39;00m\n\u001b[0;32m    229\u001b[0m     \u001b[39mcls\u001b[39m \u001b[39mis\u001b[39;00m \u001b[39mNone\u001b[39;00m \u001b[39mand\u001b[39;00m indent \u001b[39mis\u001b[39;00m \u001b[39mNone\u001b[39;00m \u001b[39mand\u001b[39;00m separators \u001b[39mis\u001b[39;00m \u001b[39mNone\u001b[39;00m \u001b[39mand\u001b[39;00m\n\u001b[0;32m    230\u001b[0m     default \u001b[39mis\u001b[39;00m \u001b[39mNone\u001b[39;00m \u001b[39mand\u001b[39;00m \u001b[39mnot\u001b[39;00m sort_keys \u001b[39mand\u001b[39;00m \u001b[39mnot\u001b[39;00m kw):\n\u001b[1;32m--> 231\u001b[0m     \u001b[39mreturn\u001b[39;00m _default_encoder\u001b[39m.\u001b[39;49mencode(obj)\n\u001b[0;32m    232\u001b[0m \u001b[39mif\u001b[39;00m \u001b[39mcls\u001b[39m \u001b[39mis\u001b[39;00m \u001b[39mNone\u001b[39;00m:\n\u001b[0;32m    233\u001b[0m     \u001b[39mcls\u001b[39m \u001b[39m=\u001b[39m JSONEncoder\n",
      "File \u001b[1;32mC:\\Program Files\\WindowsApps\\PythonSoftwareFoundation.Python.3.11_3.11.1264.0_x64__qbz5n2kfra8p0\\Lib\\json\\encoder.py:200\u001b[0m, in \u001b[0;36mJSONEncoder.encode\u001b[1;34m(self, o)\u001b[0m\n\u001b[0;32m    196\u001b[0m         \u001b[39mreturn\u001b[39;00m encode_basestring(o)\n\u001b[0;32m    197\u001b[0m \u001b[39m# This doesn't pass the iterator directly to ''.join() because the\u001b[39;00m\n\u001b[0;32m    198\u001b[0m \u001b[39m# exceptions aren't as detailed.  The list call should be roughly\u001b[39;00m\n\u001b[0;32m    199\u001b[0m \u001b[39m# equivalent to the PySequence_Fast that ''.join() would do.\u001b[39;00m\n\u001b[1;32m--> 200\u001b[0m chunks \u001b[39m=\u001b[39m \u001b[39mself\u001b[39;49m\u001b[39m.\u001b[39;49miterencode(o, _one_shot\u001b[39m=\u001b[39;49m\u001b[39mTrue\u001b[39;49;00m)\n\u001b[0;32m    201\u001b[0m \u001b[39mif\u001b[39;00m \u001b[39mnot\u001b[39;00m \u001b[39misinstance\u001b[39m(chunks, (\u001b[39mlist\u001b[39m, \u001b[39mtuple\u001b[39m)):\n\u001b[0;32m    202\u001b[0m     chunks \u001b[39m=\u001b[39m \u001b[39mlist\u001b[39m(chunks)\n",
      "File \u001b[1;32mC:\\Program Files\\WindowsApps\\PythonSoftwareFoundation.Python.3.11_3.11.1264.0_x64__qbz5n2kfra8p0\\Lib\\json\\encoder.py:258\u001b[0m, in \u001b[0;36mJSONEncoder.iterencode\u001b[1;34m(self, o, _one_shot)\u001b[0m\n\u001b[0;32m    253\u001b[0m \u001b[39melse\u001b[39;00m:\n\u001b[0;32m    254\u001b[0m     _iterencode \u001b[39m=\u001b[39m _make_iterencode(\n\u001b[0;32m    255\u001b[0m         markers, \u001b[39mself\u001b[39m\u001b[39m.\u001b[39mdefault, _encoder, \u001b[39mself\u001b[39m\u001b[39m.\u001b[39mindent, floatstr,\n\u001b[0;32m    256\u001b[0m         \u001b[39mself\u001b[39m\u001b[39m.\u001b[39mkey_separator, \u001b[39mself\u001b[39m\u001b[39m.\u001b[39mitem_separator, \u001b[39mself\u001b[39m\u001b[39m.\u001b[39msort_keys,\n\u001b[0;32m    257\u001b[0m         \u001b[39mself\u001b[39m\u001b[39m.\u001b[39mskipkeys, _one_shot)\n\u001b[1;32m--> 258\u001b[0m \u001b[39mreturn\u001b[39;00m _iterencode(o, \u001b[39m0\u001b[39;49m)\n",
      "File \u001b[1;32mC:\\Program Files\\WindowsApps\\PythonSoftwareFoundation.Python.3.11_3.11.1264.0_x64__qbz5n2kfra8p0\\Lib\\json\\encoder.py:180\u001b[0m, in \u001b[0;36mJSONEncoder.default\u001b[1;34m(self, o)\u001b[0m\n\u001b[0;32m    161\u001b[0m \u001b[39mdef\u001b[39;00m \u001b[39mdefault\u001b[39m(\u001b[39mself\u001b[39m, o):\n\u001b[0;32m    162\u001b[0m \u001b[39m    \u001b[39m\u001b[39m\"\"\"Implement this method in a subclass such that it returns\u001b[39;00m\n\u001b[0;32m    163\u001b[0m \u001b[39m    a serializable object for ``o``, or calls the base implementation\u001b[39;00m\n\u001b[0;32m    164\u001b[0m \u001b[39m    (to raise a ``TypeError``).\u001b[39;00m\n\u001b[1;32m   (...)\u001b[0m\n\u001b[0;32m    178\u001b[0m \n\u001b[0;32m    179\u001b[0m \u001b[39m    \"\"\"\u001b[39;00m\n\u001b[1;32m--> 180\u001b[0m     \u001b[39mraise\u001b[39;00m \u001b[39mTypeError\u001b[39;00m(\u001b[39mf\u001b[39m\u001b[39m'\u001b[39m\u001b[39mObject of type \u001b[39m\u001b[39m{\u001b[39;00mo\u001b[39m.\u001b[39m\u001b[39m__class__\u001b[39m\u001b[39m.\u001b[39m\u001b[39m__name__\u001b[39m\u001b[39m}\u001b[39;00m\u001b[39m \u001b[39m\u001b[39m'\u001b[39m\n\u001b[0;32m    181\u001b[0m                     \u001b[39mf\u001b[39m\u001b[39m'\u001b[39m\u001b[39mis not JSON serializable\u001b[39m\u001b[39m'\u001b[39m)\n",
      "\u001b[1;31mTypeError\u001b[0m: Object of type PropertiesDict is not JSON serializable"
     ]
    }
   ],
   "source": [
    "# Cesar\n",
    "from properties_dict import PropertiesDict\n",
    "import json\n",
    "\n",
    "def save(propertys_per_code):\n",
    "    \"\"\"save the dictionary of leader per country in a Json File\"\"\"\n",
    "    with open(\"propertys.json\", \"w\") as outfile:\n",
    "        json.dump(propertys_per_code, outfile)\n",
    "\n",
    "def load():\n",
    "    \"\"\"return a dictionary with the leader per country taked of a Json File\"\"\"\n",
    "    with open(\"propertys.json\", \"r\") as outfile:\n",
    "        leaders_recover = json.load(outfile)\n",
    "    return leaders_recover\n",
    "\n",
    "\n",
    "property = {    0:  \n",
    "            {\"Locality\": \"Gent\", \"TypeProperty\": \"Appartament\", \n",
    "            \"SubtypeProperty\": None, \"Price\" : \"1200\",  \n",
    "            \"TypeSale\": \"Direct\", \"NumberRooms\" : \"4\",  \n",
    "            \"LivingArea\": \"150m\", \"FullyEquippedKitchen\" : 1,  \n",
    "            \"Furnished\": 0, \"OpenFire\" : 1,  \n",
    "            \"Terrace\": 1, \"TerraceArea\" : \"150m\",  \n",
    "            \"Garden\": 1, \"GardenArea\" : \"50m\",  \n",
    "            \"SurfaceOfLand\": \"\", \"SurfaceAreaOfPlotOfLand\" : \"200\",  \n",
    "            \"NumberFacades\":1, \"SwimmingPool\" : \"\",  \n",
    "            \"StateBuilding\": \"\"}\n",
    "            }\n",
    "\n",
    "save(property)\n",
    "load_file = load()\n",
    "print(load_file)\n",
    "\n",
    "\n"
   ]
  },
  {
   "cell_type": "code",
   "execution_count": 21,
   "metadata": {},
   "outputs": [
    {
     "ename": "ModuleNotFoundError",
     "evalue": "No module named 'bs4'",
     "output_type": "error",
     "traceback": [
      "\u001b[1;31m---------------------------------------------------------------------------\u001b[0m",
      "\u001b[1;31mModuleNotFoundError\u001b[0m                       Traceback (most recent call last)",
      "Cell \u001b[1;32mIn[21], line 3\u001b[0m\n\u001b[0;32m      1\u001b[0m \u001b[39m# Cesar\u001b[39;00m\n\u001b[1;32m----> 3\u001b[0m \u001b[39mfrom\u001b[39;00m \u001b[39mbs4\u001b[39;00m \u001b[39mimport\u001b[39;00m BeautifulSoup\n\u001b[0;32m      4\u001b[0m \u001b[39mimport\u001b[39;00m \u001b[39mrequests\u001b[39;00m\n\u001b[0;32m      5\u001b[0m \u001b[39mfrom\u001b[39;00m \u001b[39mcollections\u001b[39;00m \u001b[39mimport\u001b[39;00m UserDict\n",
      "\u001b[1;31mModuleNotFoundError\u001b[0m: No module named 'bs4'"
     ]
    }
   ],
   "source": [
    "# Cesar\n",
    "\n",
    "from bs4 import BeautifulSoup\n",
    "import requests\n",
    "from collections import UserDict\n",
    "\n",
    "UK_TO_US = {\"Locality\": \"\", \"TypeProperty\": \"\", \n",
    "            \"SubtypeProperty\": \"\", \"Price\" : \"\",  \n",
    "            \"Type of sale\": \"\", \"NumberRooms\" : \"\",  \n",
    "            \"LivingArea\": \"\", \"FullyEquippedKitchen\" : \"\",  \n",
    "            \"Furnished\": \"\", \"OpenFire\" : \"\",  \n",
    "            \"Terrace\": \"\", \"TerraceArea\" : \"\",  \n",
    "            \"Garden\": \"\", \"GardenArea\" : \"\",  \n",
    "            \"SurfaceOfLand\": \"\", \"SurfaceAreaOfPlotOfLand\" : \"\",  \n",
    "            \"NumberFacades\": \"\", \"SwimmingPool\" : \"\",  \n",
    "            \"StateBuilding\": \"\" }\n",
    "\n",
    "class EnglishSpelledDict(UserDict):\n",
    "    def __getitem__(self, key):\n",
    "        try:\n",
    "            return self.data[key]\n",
    "        except KeyError:\n",
    "            pass\n",
    "        try:\n",
    "            return self.data[UK_TO_US[key]]\n",
    "        except KeyError:\n",
    "            pass\n",
    "        raise KeyError(key)\n",
    "\n",
    "    def __setitem__(self, key, value):\n",
    "        try:\n",
    "            key = UK_TO_US[key]\n",
    "        except KeyError:\n",
    "            pass\n",
    "        self.data[key] = value\n",
    "\n",
    "\n",
    "\n",
    "def get_properties(url, session):\n",
    "   print(url) # keep this for the rest of the notebook\n",
    "   first_paragraph = \"\"\n",
    "   req = session.get(url)\n",
    "   soup = BeautifulSoup(req.content, \"html\")\n",
    "   articles = soup.find_all('article')\n",
    "   infor_property = []\n",
    "   \n",
    "   for article in articles:\n",
    "      url_property = article.find('a')['href']\n",
    "      infor_property.append([url_property.split('/')[-1], url_property])\n",
    "\n",
    "   print(infor_property)\n",
    "\n",
    "\n",
    "session = requests.Session()\n",
    "\n",
    "get_properties('https://www.immoweb.be/en/search/house-and-apartment/for-rent/gent/district?countries=BE&page=1&orderBy=relevance',session)"
   ]
  }
 ],
 "metadata": {
  "kernelspec": {
   "display_name": "Python 3",
   "language": "python",
   "name": "python3"
  },
  "language_info": {
   "codemirror_mode": {
    "name": "ipython",
    "version": 3
   },
   "file_extension": ".py",
   "mimetype": "text/x-python",
   "name": "python",
   "nbconvert_exporter": "python",
   "pygments_lexer": "ipython3",
   "version": "3.11.4"
  },
  "orig_nbformat": 4
 },
 "nbformat": 4,
 "nbformat_minor": 2
}
